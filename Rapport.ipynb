{
 "cells": [
  {
   "cell_type": "markdown",
   "metadata": {},
   "source": [
    "# Q1\n",
    "\n",
    "Avant de commencer ce projet, j'ai remarqué un problème avec la taille d'affichage de la simulation. Chaque zone de végétation n'occupait qu'un seul pixel. J'ai donc modifié le fichier **display.cpp** (aussi .hpp) en ajoutant un paramètre **scale_factor** dans la classe **Displayer**, ce qui permet d'améliorer la visualisation en rendant l'affichage plus clair."
   ]
  },
  {
   "cell_type": "markdown",
   "metadata": {},
   "source": [
    "## Premier étape:\n",
    "\n",
    "Core number : 8\n",
    "Cache        |  Taille du Cache\n",
    "-------------|-------------------\n",
    "L1d:   |   384 KB (8 instances)\n",
    "L1i:   |   256 KB (8 instances)\n",
    "L2 :   |   16 MB (8 instances)\n",
    "L3 :   |   288 MB (8 instances)\n"
   ]
  },
  {
   "cell_type": "markdown",
   "metadata": {},
   "source": [
    "unity: s\n",
    "\n",
    "n = 100|No parallel | nbp = 2 | nbp = 4 |nbp = 8 \n",
    "---------------------|-----------|---|---|---\n",
    "Total simulation time|85.9896|84.87  | 85.9447  |85.136\n",
    "Avg step time        |0.110718|  0.108946| 0.108833  |0.108043 \n",
    "Avg render time      |0.0104498|0.00868755  |0.00853164| 0.00776727 \n",
    "SpeedUp | - |1.202847 |1.224829|1.345363"
   ]
  },
  {
   "cell_type": "markdown",
   "metadata": {},
   "source": []
  }
 ],
 "metadata": {
  "language_info": {
   "name": "python"
  }
 },
 "nbformat": 4,
 "nbformat_minor": 2
}
